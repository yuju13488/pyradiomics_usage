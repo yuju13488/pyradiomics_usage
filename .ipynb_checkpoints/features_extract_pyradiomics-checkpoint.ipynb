{
 "cells": [
  {
   "cell_type": "code",
   "execution_count": 7,
   "metadata": {},
   "outputs": [],
   "source": [
    "import pandas as pd\n",
    "import SimpleITK as sitk\n",
    "import pyradiomics\n",
    "import six\n",
    "import numpy as np\n",
    "import os\n",
    "from radiomics import featureextractor"
   ]
  },
  {
   "cell_type": "code",
   "execution_count": 8,
   "metadata": {},
   "outputs": [],
   "source": [
    "name = \"Params.yaml\"\n",
    "params = './pyradiomics/examples/exampleSettings/' + name"
   ]
  },
  {
   "cell_type": "code",
   "execution_count": 18,
   "metadata": {},
   "outputs": [
    {
     "name": "stdout",
     "output_type": "stream",
     "text": [
      "374494 No GTV!\n",
      "522467 Done!\n",
      "24972414 Done!\n"
     ]
    }
   ],
   "source": [
    "nrrd_rs = \"./data/nrrd_rs/meta/\"\n",
    "nrrd_ct = \"./data/nrrd_ct/meta/\"\n",
    "\n",
    "nrrds_ct = []\n",
    "for dirPath, dirNames, fileNames in os.walk(nrrd_ct):\n",
    "    for f in fileNames:\n",
    "        if f[-4:] == \"nrrd\":\n",
    "            nrrds_ct.append(os.path.join(dirPath, f))\n",
    "            \n",
    "for image_path in nrrds_ct:\n",
    "    index_Pid = image_path.rfind(\"/\")\n",
    "    rs_path = image_path[:index_Pid].replace(\"ct\", \"rs\")\n",
    "    pid = rs_path[rs_path.rfind(\"/\") + 1:]\n",
    "    roi = os.listdir(rs_path)\n",
    "    label_path = None\n",
    "    for r in roi:\n",
    "        if \"_GTV-LN\" in r:\n",
    "            label_path = rs_path + \"/\" + r\n",
    "        elif \"_GTV-N\" in r:\n",
    "            label_path = rs_path + \"/\" + r\n",
    "        elif \"_LN\" in r:\n",
    "            label_path = rs_path + \"/\" + r\n",
    "        elif \"_GTVN\" in r:\n",
    "            label_path = rs_path + \"/\" + r\n",
    "        elif \"_GTVn\" in r:\n",
    "            label_path = rs_path + \"/\" + r\n",
    "    try:\n",
    "        extractor = featureextractor.RadiomicsFeatureExtractor(params)\n",
    "        result = extractor.execute(image_path, label_path, label = 255)\n",
    "        txt_path = \"./data/txt/meta/\" + pid\n",
    "        if os.path.exists(txt_path):\n",
    "            os.mkdir(txt_path)\n",
    "        with open(txt_path + \".txt\", 'w', encoding='utf-8') as f:\n",
    "            for key, value in result.items():\n",
    "                f.write(key + \":\" + str(value) + \"\\n\")\n",
    "        print(pid, \"Done!\")\n",
    "    except:\n",
    "        print(pid, \"No GTV!\")\n",
    "        continue"
   ]
  },
  {
   "cell_type": "code",
   "execution_count": null,
   "metadata": {},
   "outputs": [],
   "source": []
  }
 ],
 "metadata": {
  "kernelspec": {
   "display_name": "Python 3",
   "language": "python",
   "name": "python3"
  },
  "language_info": {
   "codemirror_mode": {
    "name": "ipython",
    "version": 3
   },
   "file_extension": ".py",
   "mimetype": "text/x-python",
   "name": "python",
   "nbconvert_exporter": "python",
   "pygments_lexer": "ipython3",
   "version": "3.7.6"
  }
 },
 "nbformat": 4,
 "nbformat_minor": 4
}
