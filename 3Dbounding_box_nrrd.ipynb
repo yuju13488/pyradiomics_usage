{
 "cells": [
  {
   "cell_type": "code",
   "execution_count": 4,
   "metadata": {},
   "outputs": [],
   "source": [
    "from PIL import Image \n",
    "import numpy as np \n",
    "import nrrd"
   ]
  },
  {
   "cell_type": "code",
   "execution_count": 2,
   "metadata": {},
   "outputs": [],
   "source": [
    "def make_nrrds(nrrd_filename, center, width, length, height, savefilepath):\n",
    "    # nrrd file loading\n",
    "    data, header = nrrd.read(nrrd_filename)\n",
    "    # made new array with same size of data\n",
    "    new_data = np.zeros(data.shape, dtype = \"u8\") # type unit8\n",
    "    # location and range of mask\n",
    "    x = int(center[0] - width / 2)\n",
    "    y = int(center[1] - length / 2)\n",
    "    z = int(center[2] - height / 2)\n",
    "    new[y:y + length, x:x + width, z:z + height] = 255\n",
    "    nrrd.write(savefilepath, # save file path\n",
    "               new_data, # image array use you made\n",
    "               header = header) # header use original"
   ]
  },
  {
   "cell_type": "code",
   "execution_count": 7,
   "metadata": {},
   "outputs": [],
   "source": [
    "# function testing\n",
    "nrrd_filename = \"./data/mask_GTV-LN.nrrd\"\n",
    "center = (256, 256, 40)\n",
    "width = 41\n",
    "length = 41\n",
    "height = 21\n",
    "savefilepath = \"./data/bounding_box.nrrd\"\n",
    "make_nrrds(nrrd_filename, center, width, length, height, savefilepath)"
   ]
  },
  {
   "cell_type": "code",
   "execution_count": null,
   "metadata": {},
   "outputs": [],
   "source": []
  }
 ],
 "metadata": {
  "kernelspec": {
   "display_name": "Python 3",
   "language": "python",
   "name": "python3"
  },
  "language_info": {
   "codemirror_mode": {
    "name": "ipython",
    "version": 3
   },
   "file_extension": ".py",
   "mimetype": "text/x-python",
   "name": "python",
   "nbconvert_exporter": "python",
   "pygments_lexer": "ipython3",
   "version": "3.7.5"
  }
 },
 "nbformat": 4,
 "nbformat_minor": 4
}
